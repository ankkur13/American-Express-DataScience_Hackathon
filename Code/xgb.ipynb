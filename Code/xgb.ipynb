{
 "cells": [
  {
   "cell_type": "code",
   "execution_count": 1,
   "metadata": {},
   "outputs": [],
   "source": [
    "import pandas as pd"
   ]
  },
  {
   "cell_type": "code",
   "execution_count": 2,
   "metadata": {},
   "outputs": [],
   "source": [
    "train = pd.read_csv('train_amex/train.csv')\n",
    "test = pd.read_csv('test_LNMuIYp/test.csv')"
   ]
  },
  {
   "cell_type": "code",
   "execution_count": 3,
   "metadata": {},
   "outputs": [],
   "source": [
    "historical = pd.read_csv('train_amex/historical_user_logs.csv')"
   ]
  },
  {
   "cell_type": "code",
   "execution_count": 4,
   "metadata": {},
   "outputs": [
    {
     "name": "stdout",
     "output_type": "stream",
     "text": [
      "<class 'pandas.core.frame.DataFrame'>\n",
      "RangeIndex: 128858 entries, 0 to 128857\n",
      "Data columns (total 2 columns):\n",
      "session_id    128858 non-null int64\n",
      "is_click      128858 non-null int64\n",
      "dtypes: int64(2)\n",
      "memory usage: 2.0 MB\n"
     ]
    }
   ],
   "source": [
    "submission = pd.read_csv('sample_submission_2s8l9nF.csv')\n",
    "submission.info()"
   ]
  },
  {
   "cell_type": "code",
   "execution_count": 5,
   "metadata": {},
   "outputs": [],
   "source": [
    "train.drop(columns=['product_category_2','session_id','DateTime'], axis=1, inplace=True)\n",
    "test.drop(columns=['product_category_2','session_id','DateTime'], axis=1, inplace=True)\n",
    "#historical.drop(columns=['DateTime'],axis=1,inplace=True)"
   ]
  },
  {
   "cell_type": "code",
   "execution_count": 6,
   "metadata": {},
   "outputs": [],
   "source": [
    "#train_hist=pd.merge(train,historical, how='left')"
   ]
  },
  {
   "cell_type": "code",
   "execution_count": 7,
   "metadata": {},
   "outputs": [
    {
     "name": "stdout",
     "output_type": "stream",
     "text": [
      "<class 'pandas.core.frame.DataFrame'>\n",
      "RangeIndex: 463291 entries, 0 to 463290\n",
      "Data columns (total 12 columns):\n",
      "user_id                   463291 non-null int64\n",
      "product                   463291 non-null object\n",
      "campaign_id               463291 non-null int64\n",
      "webpage_id                463291 non-null int64\n",
      "product_category_1        463291 non-null int64\n",
      "user_group_id             445048 non-null float64\n",
      "gender                    445048 non-null object\n",
      "age_level                 445048 non-null float64\n",
      "user_depth                445048 non-null float64\n",
      "city_development_index    338162 non-null float64\n",
      "var_1                     463291 non-null int64\n",
      "is_click                  463291 non-null int64\n",
      "dtypes: float64(4), int64(6), object(2)\n",
      "memory usage: 42.4+ MB\n"
     ]
    }
   ],
   "source": [
    "#train_hist.info()\n",
    "train.info()"
   ]
  },
  {
   "cell_type": "code",
   "execution_count": 8,
   "metadata": {},
   "outputs": [
    {
     "data": {
      "text/html": [
       "<div>\n",
       "<style scoped>\n",
       "    .dataframe tbody tr th:only-of-type {\n",
       "        vertical-align: middle;\n",
       "    }\n",
       "\n",
       "    .dataframe tbody tr th {\n",
       "        vertical-align: top;\n",
       "    }\n",
       "\n",
       "    .dataframe thead th {\n",
       "        text-align: right;\n",
       "    }\n",
       "</style>\n",
       "<table border=\"1\" class=\"dataframe\">\n",
       "  <thead>\n",
       "    <tr style=\"text-align: right;\">\n",
       "      <th></th>\n",
       "      <th>user_id</th>\n",
       "      <th>product</th>\n",
       "      <th>campaign_id</th>\n",
       "      <th>webpage_id</th>\n",
       "      <th>product_category_1</th>\n",
       "      <th>user_group_id</th>\n",
       "      <th>gender</th>\n",
       "      <th>age_level</th>\n",
       "      <th>user_depth</th>\n",
       "      <th>city_development_index</th>\n",
       "      <th>var_1</th>\n",
       "      <th>is_click</th>\n",
       "    </tr>\n",
       "  </thead>\n",
       "  <tbody>\n",
       "    <tr>\n",
       "      <th>0</th>\n",
       "      <td>858557</td>\n",
       "      <td>C</td>\n",
       "      <td>359520</td>\n",
       "      <td>13787</td>\n",
       "      <td>4</td>\n",
       "      <td>10.0</td>\n",
       "      <td>Female</td>\n",
       "      <td>4.0</td>\n",
       "      <td>3.0</td>\n",
       "      <td>3.0</td>\n",
       "      <td>0</td>\n",
       "      <td>0</td>\n",
       "    </tr>\n",
       "    <tr>\n",
       "      <th>1</th>\n",
       "      <td>243253</td>\n",
       "      <td>C</td>\n",
       "      <td>105960</td>\n",
       "      <td>11085</td>\n",
       "      <td>5</td>\n",
       "      <td>8.0</td>\n",
       "      <td>Female</td>\n",
       "      <td>2.0</td>\n",
       "      <td>2.0</td>\n",
       "      <td>NaN</td>\n",
       "      <td>0</td>\n",
       "      <td>0</td>\n",
       "    </tr>\n",
       "    <tr>\n",
       "      <th>2</th>\n",
       "      <td>243253</td>\n",
       "      <td>C</td>\n",
       "      <td>359520</td>\n",
       "      <td>13787</td>\n",
       "      <td>4</td>\n",
       "      <td>8.0</td>\n",
       "      <td>Female</td>\n",
       "      <td>2.0</td>\n",
       "      <td>2.0</td>\n",
       "      <td>NaN</td>\n",
       "      <td>0</td>\n",
       "      <td>0</td>\n",
       "    </tr>\n",
       "    <tr>\n",
       "      <th>3</th>\n",
       "      <td>1097446</td>\n",
       "      <td>I</td>\n",
       "      <td>359520</td>\n",
       "      <td>13787</td>\n",
       "      <td>3</td>\n",
       "      <td>3.0</td>\n",
       "      <td>Male</td>\n",
       "      <td>3.0</td>\n",
       "      <td>3.0</td>\n",
       "      <td>2.0</td>\n",
       "      <td>1</td>\n",
       "      <td>0</td>\n",
       "    </tr>\n",
       "    <tr>\n",
       "      <th>4</th>\n",
       "      <td>663656</td>\n",
       "      <td>C</td>\n",
       "      <td>405490</td>\n",
       "      <td>60305</td>\n",
       "      <td>3</td>\n",
       "      <td>2.0</td>\n",
       "      <td>Male</td>\n",
       "      <td>2.0</td>\n",
       "      <td>3.0</td>\n",
       "      <td>2.0</td>\n",
       "      <td>1</td>\n",
       "      <td>0</td>\n",
       "    </tr>\n",
       "  </tbody>\n",
       "</table>\n",
       "</div>"
      ],
      "text/plain": [
       "   user_id product  campaign_id  webpage_id  product_category_1  \\\n",
       "0   858557       C       359520       13787                   4   \n",
       "1   243253       C       105960       11085                   5   \n",
       "2   243253       C       359520       13787                   4   \n",
       "3  1097446       I       359520       13787                   3   \n",
       "4   663656       C       405490       60305                   3   \n",
       "\n",
       "   user_group_id  gender  age_level  user_depth  city_development_index  \\\n",
       "0           10.0  Female        4.0         3.0                     3.0   \n",
       "1            8.0  Female        2.0         2.0                     NaN   \n",
       "2            8.0  Female        2.0         2.0                     NaN   \n",
       "3            3.0    Male        3.0         3.0                     2.0   \n",
       "4            2.0    Male        2.0         3.0                     2.0   \n",
       "\n",
       "   var_1  is_click  \n",
       "0      0         0  \n",
       "1      0         0  \n",
       "2      0         0  \n",
       "3      1         0  \n",
       "4      1         0  "
      ]
     },
     "execution_count": 8,
     "metadata": {},
     "output_type": "execute_result"
    }
   ],
   "source": [
    "#train_hist.head()\n",
    "train.head()"
   ]
  },
  {
   "cell_type": "code",
   "execution_count": 9,
   "metadata": {},
   "outputs": [],
   "source": [
    "#test_hist=pd.merge(test,historical, how='left', on = ['product', 'user_id'] )"
   ]
  },
  {
   "cell_type": "code",
   "execution_count": 10,
   "metadata": {},
   "outputs": [],
   "source": [
    "#historical = historical.drop_duplicates()\n",
    "#train_hist = train_hist.drop_duplicates()\n",
    "#test_hist = test_hist.drop_duplicates()"
   ]
  },
  {
   "cell_type": "code",
   "execution_count": 11,
   "metadata": {},
   "outputs": [
    {
     "name": "stdout",
     "output_type": "stream",
     "text": [
      "<class 'pandas.core.frame.DataFrame'>\n",
      "RangeIndex: 128858 entries, 0 to 128857\n",
      "Data columns (total 11 columns):\n",
      "user_id                   128858 non-null int64\n",
      "product                   128858 non-null object\n",
      "campaign_id               128858 non-null int64\n",
      "webpage_id                128858 non-null int64\n",
      "product_category_1        128858 non-null int64\n",
      "user_group_id             123174 non-null float64\n",
      "gender                    123174 non-null object\n",
      "age_level                 123174 non-null float64\n",
      "user_depth                123174 non-null float64\n",
      "city_development_index    94249 non-null float64\n",
      "var_1                     128858 non-null int64\n",
      "dtypes: float64(4), int64(5), object(2)\n",
      "memory usage: 10.8+ MB\n"
     ]
    }
   ],
   "source": [
    "#test_hist.info()\n",
    "test.info()"
   ]
  },
  {
   "cell_type": "code",
   "execution_count": 12,
   "metadata": {},
   "outputs": [
    {
     "data": {
      "text/html": [
       "<div>\n",
       "<style scoped>\n",
       "    .dataframe tbody tr th:only-of-type {\n",
       "        vertical-align: middle;\n",
       "    }\n",
       "\n",
       "    .dataframe tbody tr th {\n",
       "        vertical-align: top;\n",
       "    }\n",
       "\n",
       "    .dataframe thead th {\n",
       "        text-align: right;\n",
       "    }\n",
       "</style>\n",
       "<table border=\"1\" class=\"dataframe\">\n",
       "  <thead>\n",
       "    <tr style=\"text-align: right;\">\n",
       "      <th></th>\n",
       "      <th>user_id</th>\n",
       "      <th>product</th>\n",
       "      <th>campaign_id</th>\n",
       "      <th>webpage_id</th>\n",
       "      <th>product_category_1</th>\n",
       "      <th>user_group_id</th>\n",
       "      <th>gender</th>\n",
       "      <th>age_level</th>\n",
       "      <th>user_depth</th>\n",
       "      <th>city_development_index</th>\n",
       "      <th>var_1</th>\n",
       "    </tr>\n",
       "  </thead>\n",
       "  <tbody>\n",
       "    <tr>\n",
       "      <th>0</th>\n",
       "      <td>732573</td>\n",
       "      <td>J</td>\n",
       "      <td>404347</td>\n",
       "      <td>53587</td>\n",
       "      <td>1</td>\n",
       "      <td>5.0</td>\n",
       "      <td>Male</td>\n",
       "      <td>5.0</td>\n",
       "      <td>3.0</td>\n",
       "      <td>NaN</td>\n",
       "      <td>0</td>\n",
       "    </tr>\n",
       "    <tr>\n",
       "      <th>1</th>\n",
       "      <td>172910</td>\n",
       "      <td>I</td>\n",
       "      <td>118601</td>\n",
       "      <td>28529</td>\n",
       "      <td>3</td>\n",
       "      <td>NaN</td>\n",
       "      <td>NaN</td>\n",
       "      <td>NaN</td>\n",
       "      <td>NaN</td>\n",
       "      <td>NaN</td>\n",
       "      <td>1</td>\n",
       "    </tr>\n",
       "    <tr>\n",
       "      <th>2</th>\n",
       "      <td>172910</td>\n",
       "      <td>I</td>\n",
       "      <td>118601</td>\n",
       "      <td>28529</td>\n",
       "      <td>4</td>\n",
       "      <td>NaN</td>\n",
       "      <td>NaN</td>\n",
       "      <td>NaN</td>\n",
       "      <td>NaN</td>\n",
       "      <td>NaN</td>\n",
       "      <td>1</td>\n",
       "    </tr>\n",
       "    <tr>\n",
       "      <th>3</th>\n",
       "      <td>557318</td>\n",
       "      <td>G</td>\n",
       "      <td>118601</td>\n",
       "      <td>28529</td>\n",
       "      <td>5</td>\n",
       "      <td>1.0</td>\n",
       "      <td>Male</td>\n",
       "      <td>1.0</td>\n",
       "      <td>3.0</td>\n",
       "      <td>1.0</td>\n",
       "      <td>0</td>\n",
       "    </tr>\n",
       "    <tr>\n",
       "      <th>4</th>\n",
       "      <td>923896</td>\n",
       "      <td>H</td>\n",
       "      <td>118601</td>\n",
       "      <td>28529</td>\n",
       "      <td>5</td>\n",
       "      <td>9.0</td>\n",
       "      <td>Female</td>\n",
       "      <td>3.0</td>\n",
       "      <td>1.0</td>\n",
       "      <td>NaN</td>\n",
       "      <td>1</td>\n",
       "    </tr>\n",
       "  </tbody>\n",
       "</table>\n",
       "</div>"
      ],
      "text/plain": [
       "   user_id product  campaign_id  webpage_id  product_category_1  \\\n",
       "0   732573       J       404347       53587                   1   \n",
       "1   172910       I       118601       28529                   3   \n",
       "2   172910       I       118601       28529                   4   \n",
       "3   557318       G       118601       28529                   5   \n",
       "4   923896       H       118601       28529                   5   \n",
       "\n",
       "   user_group_id  gender  age_level  user_depth  city_development_index  var_1  \n",
       "0            5.0    Male        5.0         3.0                     NaN      0  \n",
       "1            NaN     NaN        NaN         NaN                     NaN      1  \n",
       "2            NaN     NaN        NaN         NaN                     NaN      1  \n",
       "3            1.0    Male        1.0         3.0                     1.0      0  \n",
       "4            9.0  Female        3.0         1.0                     NaN      1  "
      ]
     },
     "execution_count": 12,
     "metadata": {},
     "output_type": "execute_result"
    }
   ],
   "source": [
    "#test_hist.head()\n",
    "test.head()"
   ]
  },
  {
   "cell_type": "code",
   "execution_count": 13,
   "metadata": {},
   "outputs": [
    {
     "name": "stdout",
     "output_type": "stream",
     "text": [
      "<class 'pandas.core.frame.DataFrame'>\n",
      "RangeIndex: 24287534 entries, 0 to 24287533\n",
      "Data columns (total 4 columns):\n",
      "DateTime    object\n",
      "user_id     int64\n",
      "product     object\n",
      "action      object\n",
      "dtypes: int64(1), object(3)\n",
      "memory usage: 741.2+ MB\n"
     ]
    }
   ],
   "source": [
    "historical.info()"
   ]
  },
  {
   "cell_type": "code",
   "execution_count": 14,
   "metadata": {},
   "outputs": [
    {
     "data": {
      "text/html": [
       "<div>\n",
       "<style scoped>\n",
       "    .dataframe tbody tr th:only-of-type {\n",
       "        vertical-align: middle;\n",
       "    }\n",
       "\n",
       "    .dataframe tbody tr th {\n",
       "        vertical-align: top;\n",
       "    }\n",
       "\n",
       "    .dataframe thead th {\n",
       "        text-align: right;\n",
       "    }\n",
       "</style>\n",
       "<table border=\"1\" class=\"dataframe\">\n",
       "  <thead>\n",
       "    <tr style=\"text-align: right;\">\n",
       "      <th></th>\n",
       "      <th>DateTime</th>\n",
       "      <th>user_id</th>\n",
       "      <th>product</th>\n",
       "      <th>action</th>\n",
       "    </tr>\n",
       "  </thead>\n",
       "  <tbody>\n",
       "    <tr>\n",
       "      <th>0</th>\n",
       "      <td>2017-05-28 15:44</td>\n",
       "      <td>704</td>\n",
       "      <td>B</td>\n",
       "      <td>view</td>\n",
       "    </tr>\n",
       "    <tr>\n",
       "      <th>1</th>\n",
       "      <td>2017-05-29 07:08</td>\n",
       "      <td>499679</td>\n",
       "      <td>F</td>\n",
       "      <td>view</td>\n",
       "    </tr>\n",
       "    <tr>\n",
       "      <th>2</th>\n",
       "      <td>2017-05-29 07:10</td>\n",
       "      <td>499679</td>\n",
       "      <td>G</td>\n",
       "      <td>view</td>\n",
       "    </tr>\n",
       "    <tr>\n",
       "      <th>3</th>\n",
       "      <td>2017-05-29 07:10</td>\n",
       "      <td>499679</td>\n",
       "      <td>G</td>\n",
       "      <td>view</td>\n",
       "    </tr>\n",
       "    <tr>\n",
       "      <th>4</th>\n",
       "      <td>2017-05-29 07:10</td>\n",
       "      <td>499679</td>\n",
       "      <td>G</td>\n",
       "      <td>view</td>\n",
       "    </tr>\n",
       "  </tbody>\n",
       "</table>\n",
       "</div>"
      ],
      "text/plain": [
       "           DateTime  user_id product action\n",
       "0  2017-05-28 15:44      704       B   view\n",
       "1  2017-05-29 07:08   499679       F   view\n",
       "2  2017-05-29 07:10   499679       G   view\n",
       "3  2017-05-29 07:10   499679       G   view\n",
       "4  2017-05-29 07:10   499679       G   view"
      ]
     },
     "execution_count": 14,
     "metadata": {},
     "output_type": "execute_result"
    }
   ],
   "source": [
    "historical.head()"
   ]
  },
  {
   "cell_type": "code",
   "execution_count": 15,
   "metadata": {},
   "outputs": [
    {
     "data": {
      "text/plain": [
       "user_id                     int64\n",
       "product                    object\n",
       "campaign_id                 int64\n",
       "webpage_id                  int64\n",
       "product_category_1          int64\n",
       "user_group_id             float64\n",
       "gender                     object\n",
       "age_level                 float64\n",
       "user_depth                float64\n",
       "city_development_index    float64\n",
       "var_1                       int64\n",
       "is_click                    int64\n",
       "dtype: object"
      ]
     },
     "execution_count": 15,
     "metadata": {},
     "output_type": "execute_result"
    }
   ],
   "source": [
    "#train_hist.dtypes\n",
    "train.dtypes"
   ]
  },
  {
   "cell_type": "code",
   "execution_count": 16,
   "metadata": {},
   "outputs": [
    {
     "data": {
      "text/plain": [
       "product\n",
       "A     15391\n",
       "B     22479\n",
       "C    163501\n",
       "D     41064\n",
       "E     21452\n",
       "F      7007\n",
       "G      9414\n",
       "H    109574\n",
       "I     63711\n",
       "J      9698\n",
       "Name: product, dtype: int64"
      ]
     },
     "execution_count": 16,
     "metadata": {},
     "output_type": "execute_result"
    }
   ],
   "source": [
    "train.groupby(['product'])['product'].count()"
   ]
  },
  {
   "cell_type": "code",
   "execution_count": 17,
   "metadata": {},
   "outputs": [],
   "source": [
    "train = train.replace({'gender' : { 'Male' : 0, 'Female' : 1}})\n",
    "test = test.replace({'gender' : { 'Male' : 0, 'Female' : 1}})"
   ]
  },
  {
   "cell_type": "code",
   "execution_count": 18,
   "metadata": {},
   "outputs": [],
   "source": [
    "train = train.replace({'action' : { 'view' : 0, 'interest' : 1}})\n",
    "test = test.replace({'action' : { 'view' : 0, 'interest' : 1}})"
   ]
  },
  {
   "cell_type": "code",
   "execution_count": 19,
   "metadata": {},
   "outputs": [],
   "source": [
    "train=train.replace({'product': {'A': 0, 'B':1, 'C':2, \"D\":3,\"E\":4,\"F\":5,\"G\":6,\"H\":7,\"I\":8,\"J\":9}})\n",
    "test=test.replace({'product': {'A': 0, 'B':1, 'C':2, \"D\":3,\"E\":4,\"F\":5,\"G\":6,\"H\":7,\"I\":8,\"J\":9}})"
   ]
  },
  {
   "cell_type": "code",
   "execution_count": 20,
   "metadata": {},
   "outputs": [],
   "source": [
    "#converting datetime column into unix timestamp\n",
    "#train_hist['DateTime']=pd.to_datetime(train_hist['DateTime'], format='%Y-%m-%d', utc=True)\n",
    "#test_hist['DateTime']=pd.to_datetime(test_hist['DateTime'], format='%Y-%m-%d', utc=True)"
   ]
  },
  {
   "cell_type": "code",
   "execution_count": 21,
   "metadata": {},
   "outputs": [
    {
     "data": {
      "text/plain": [
       "product_category_1\n",
       "1     81141\n",
       "2     69183\n",
       "3    113812\n",
       "4    133290\n",
       "5     65865\n",
       "Name: product_category_1, dtype: int64"
      ]
     },
     "execution_count": 21,
     "metadata": {},
     "output_type": "execute_result"
    }
   ],
   "source": [
    "train.groupby(['product_category_1'])['product_category_1'].count()"
   ]
  },
  {
   "cell_type": "code",
   "execution_count": 22,
   "metadata": {},
   "outputs": [],
   "source": [
    "#train_hist.groupby(['product_category_2'])['product_category_2'].count()"
   ]
  },
  {
   "cell_type": "code",
   "execution_count": 23,
   "metadata": {},
   "outputs": [
    {
     "data": {
      "text/plain": [
       "gender\n",
       "0.0    393454\n",
       "1.0     51594\n",
       "Name: gender, dtype: int64"
      ]
     },
     "execution_count": 23,
     "metadata": {},
     "output_type": "execute_result"
    }
   ],
   "source": [
    "train.groupby(['gender'])['gender'].count()"
   ]
  },
  {
   "cell_type": "code",
   "execution_count": 24,
   "metadata": {},
   "outputs": [
    {
     "data": {
      "text/plain": [
       "age_level\n",
       "0.0       153\n",
       "1.0     43367\n",
       "2.0    143501\n",
       "3.0    160581\n",
       "4.0     63859\n",
       "5.0     30828\n",
       "6.0      2759\n",
       "Name: age_level, dtype: int64"
      ]
     },
     "execution_count": 24,
     "metadata": {},
     "output_type": "execute_result"
    }
   ],
   "source": [
    "train.groupby(['age_level'])['age_level'].count()"
   ]
  },
  {
   "cell_type": "code",
   "execution_count": 25,
   "metadata": {},
   "outputs": [
    {
     "data": {
      "text/plain": [
       "user_depth\n",
       "1.0     11861\n",
       "2.0     30389\n",
       "3.0    402798\n",
       "Name: user_depth, dtype: int64"
      ]
     },
     "execution_count": 25,
     "metadata": {},
     "output_type": "execute_result"
    }
   ],
   "source": [
    "train.groupby(['user_depth'])['user_depth'].count()"
   ]
  },
  {
   "cell_type": "code",
   "execution_count": 26,
   "metadata": {},
   "outputs": [
    {
     "data": {
      "text/plain": [
       "city_development_index\n",
       "1.0     34644\n",
       "2.0    147643\n",
       "3.0     88709\n",
       "4.0     67166\n",
       "Name: city_development_index, dtype: int64"
      ]
     },
     "execution_count": 26,
     "metadata": {},
     "output_type": "execute_result"
    }
   ],
   "source": [
    "train.groupby(['city_development_index'])['city_development_index'].count()"
   ]
  },
  {
   "cell_type": "code",
   "execution_count": 27,
   "metadata": {},
   "outputs": [
    {
     "data": {
      "text/plain": [
       "user_group_id\n",
       "0.0        153\n",
       "1.0      41946\n",
       "2.0     137278\n",
       "3.0     140317\n",
       "4.0      50080\n",
       "5.0      21989\n",
       "6.0       1724\n",
       "7.0       1421\n",
       "8.0       6223\n",
       "9.0      20264\n",
       "10.0     13779\n",
       "11.0      8839\n",
       "12.0      1035\n",
       "Name: user_group_id, dtype: int64"
      ]
     },
     "execution_count": 27,
     "metadata": {},
     "output_type": "execute_result"
    }
   ],
   "source": [
    "train.groupby(['user_group_id'])['user_group_id'].count()"
   ]
  },
  {
   "cell_type": "code",
   "execution_count": 28,
   "metadata": {},
   "outputs": [
    {
     "data": {
      "text/plain": [
       "var_1\n",
       "0    267704\n",
       "1    195587\n",
       "Name: var_1, dtype: int64"
      ]
     },
     "execution_count": 28,
     "metadata": {},
     "output_type": "execute_result"
    }
   ],
   "source": [
    "train.groupby(['var_1'])['var_1'].count()"
   ]
  },
  {
   "cell_type": "code",
   "execution_count": 29,
   "metadata": {},
   "outputs": [
    {
     "data": {
      "text/plain": [
       "is_click\n",
       "0    431960\n",
       "1     31331\n",
       "Name: is_click, dtype: int64"
      ]
     },
     "execution_count": 29,
     "metadata": {},
     "output_type": "execute_result"
    }
   ],
   "source": [
    "train.groupby(['is_click'])['is_click'].count()"
   ]
  },
  {
   "cell_type": "code",
   "execution_count": 30,
   "metadata": {},
   "outputs": [],
   "source": [
    "#train_hist= pd.merge(train,historical,how='inner',on=['user_id','product'])"
   ]
  },
  {
   "cell_type": "code",
   "execution_count": 31,
   "metadata": {},
   "outputs": [
    {
     "name": "stdout",
     "output_type": "stream",
     "text": [
      "user_id                        0\n",
      "product                        0\n",
      "campaign_id                    0\n",
      "webpage_id                     0\n",
      "product_category_1             0\n",
      "user_group_id              18243\n",
      "gender                     18243\n",
      "age_level                  18243\n",
      "user_depth                 18243\n",
      "city_development_index    125129\n",
      "var_1                          0\n",
      "is_click                       0\n",
      "dtype: int64\n"
     ]
    }
   ],
   "source": [
    "#Imputing missing values\n",
    "\n",
    "def missing_data_count(df):\n",
    "  print(df.isna().sum())\n",
    "\n",
    "missing_data_count(train)"
   ]
  },
  {
   "cell_type": "code",
   "execution_count": 32,
   "metadata": {},
   "outputs": [
    {
     "name": "stdout",
     "output_type": "stream",
     "text": [
      "user_id                       0\n",
      "product                       0\n",
      "campaign_id                   0\n",
      "webpage_id                    0\n",
      "product_category_1            0\n",
      "user_group_id              5684\n",
      "gender                     5684\n",
      "age_level                  5684\n",
      "user_depth                 5684\n",
      "city_development_index    34609\n",
      "var_1                         0\n",
      "dtype: int64\n"
     ]
    }
   ],
   "source": [
    "missing_data_count(test)"
   ]
  },
  {
   "cell_type": "code",
   "execution_count": 33,
   "metadata": {},
   "outputs": [],
   "source": [
    "test[\"city_development_index\"] = test[\"city_development_index\"].fillna(test['city_development_index'].mode()[0])\n",
    "test[\"user_depth\"] = test[\"user_depth\"].fillna(test['user_depth'].mode()[0])\n",
    "test[\"age_level\"] = test[\"age_level\"].fillna(test['age_level'].mode()[0])\n",
    "test[\"gender\"] = test[\"gender\"].fillna(test['gender'].mode()[0])\n",
    "test[\"user_group_id\"] = test[\"user_group_id\"].fillna(test['user_group_id'].mode()[0])\n",
    "\n",
    "\n",
    "train[\"city_development_index\"] = train[\"city_development_index\"].fillna(train['city_development_index'].mode()[0])\n",
    "train[\"user_depth\"] = train[\"user_depth\"].fillna(train['user_depth'].mode()[0])\n",
    "train[\"age_level\"] = train[\"age_level\"].fillna(train['age_level'].mode()[0])\n",
    "train[\"gender\"] = train[\"gender\"].fillna(train['gender'].mode()[0])\n",
    "train[\"user_group_id\"] = train[\"user_group_id\"].fillna(train['user_group_id'].mode()[0])"
   ]
  },
  {
   "cell_type": "code",
   "execution_count": 34,
   "metadata": {},
   "outputs": [],
   "source": [
    "target = train['is_click']\n",
    "target.value_counts()\n",
    "\n",
    "train=train.drop(['is_click'],axis=1)\n",
    "#test=test.drop(['product_category_2','session_id'],axis=1)"
   ]
  },
  {
   "cell_type": "code",
   "execution_count": 35,
   "metadata": {},
   "outputs": [
    {
     "name": "stderr",
     "output_type": "stream",
     "text": [
      "C:\\Users\\Ankur\\Anaconda3\\lib\\site-packages\\sklearn\\cross_validation.py:41: DeprecationWarning: This module was deprecated in version 0.18 in favor of the model_selection module into which all the refactored classes and functions are moved. Also note that the interface of the new CV iterators are different from that of this module. This module will be removed in 0.20.\n",
      "  \"This module will be removed in 0.20.\", DeprecationWarning)\n",
      "C:\\Users\\Ankur\\Anaconda3\\lib\\site-packages\\sklearn\\grid_search.py:42: DeprecationWarning: This module was deprecated in version 0.18 in favor of the model_selection module into which all the refactored classes and functions are moved. This module will be removed in 0.20.\n",
      "  DeprecationWarning)\n"
     ]
    }
   ],
   "source": [
    "from sklearn.metrics import roc_auc_score\n",
    "from sklearn.grid_search import GridSearchCV\n",
    "from sklearn.linear_model import LogisticRegression\n",
    "from sklearn.model_selection import train_test_split\n",
    "import xgboost as xgb\n",
    "import lightgbm as lgb"
   ]
  },
  {
   "cell_type": "code",
   "execution_count": 36,
   "metadata": {},
   "outputs": [],
   "source": [
    "X_train, X_test, y_train, y_test = train_test_split(train, target, test_size=0.33, random_state=42)"
   ]
  },
  {
   "cell_type": "code",
   "execution_count": 37,
   "metadata": {},
   "outputs": [
    {
     "data": {
      "text/plain": [
       "0.5815505598398084"
      ]
     },
     "execution_count": 37,
     "metadata": {},
     "output_type": "execute_result"
    }
   ],
   "source": [
    "clf = xgb.XGBClassifier(n_estimators=1000, eta=0.01, learning_rate=0.05, max_depth=8, min_samples_leaf=75, reg_lambda=10 ,scale_pos_weight = 1, n_jobs=-1, random_state=42)\n",
    "clf.fit(X_train, y_train)\n",
    "pred = clf.predict_proba(X_test)[:,1]\n",
    "roc_auc_score(y_test, pred)"
   ]
  },
  {
   "cell_type": "code",
   "execution_count": 38,
   "metadata": {},
   "outputs": [],
   "source": [
    "clf = xgb.XGBClassifier(n_estimators=1000, eta=0.01, learning_rate=0.05, max_depth=8, min_samples_leaf=75, reg_lambda=10 ,scale_pos_weight = 1, n_jobs=-1, random_state=42)\n",
    "clf.fit(train, target)\n",
    "pred = clf.predict_proba(test)[:,1]\n"
   ]
  },
  {
   "cell_type": "code",
   "execution_count": 39,
   "metadata": {},
   "outputs": [
    {
     "name": "stdout",
     "output_type": "stream",
     "text": [
      "(128858,)\n"
     ]
    },
    {
     "data": {
      "text/plain": [
       "(128858,)"
      ]
     },
     "execution_count": 39,
     "metadata": {},
     "output_type": "execute_result"
    }
   ],
   "source": [
    "print(pred.shape)\n",
    "submission[\"is_click\"].shape"
   ]
  },
  {
   "cell_type": "code",
   "execution_count": 40,
   "metadata": {},
   "outputs": [],
   "source": [
    "submission[\"is_click\"]=pred\n",
    "submission.to_csv(\"amexpert_hack_solution_xgb.csv\", index=False)"
   ]
  },
  {
   "cell_type": "code",
   "execution_count": 41,
   "metadata": {},
   "outputs": [],
   "source": [
    "gbm = lgb.LGBMClassifier(n_estimators=1000, silent=True, subsample=0.8, colsample_bytree=0.8, learning_rate=0.0075, scale_pos_weight=3.333, metric= 'f1')"
   ]
  },
  {
   "cell_type": "code",
   "execution_count": null,
   "metadata": {},
   "outputs": [],
   "source": []
  }
 ],
 "metadata": {
  "kernelspec": {
   "display_name": "Python 3",
   "language": "python",
   "name": "python3"
  },
  "language_info": {
   "codemirror_mode": {
    "name": "ipython",
    "version": 3
   },
   "file_extension": ".py",
   "mimetype": "text/x-python",
   "name": "python",
   "nbconvert_exporter": "python",
   "pygments_lexer": "ipython3",
   "version": "3.6.4"
  }
 },
 "nbformat": 4,
 "nbformat_minor": 2
}
