{
 "cells": [
  {
   "cell_type": "code",
   "execution_count": 279,
   "metadata": {},
   "outputs": [],
   "source": [
    "#!pip install lightgbm\n",
    "import pandas as pd\n",
    "import matplotlib.pyplot as plt\n",
    "%matplotlib inline\n",
    "import seaborn as sns"
   ]
  },
  {
   "cell_type": "code",
   "execution_count": 280,
   "metadata": {},
   "outputs": [],
   "source": [
    "train = pd.read_csv('train_amex/train.csv')\n",
    "test = pd.read_csv('test_LNMuIYp/test.csv')"
   ]
  },
  {
   "cell_type": "code",
   "execution_count": 281,
   "metadata": {},
   "outputs": [],
   "source": [
    "historical = pd.read_csv('train_amex/historical_user_logs.csv')"
   ]
  },
  {
   "cell_type": "code",
   "execution_count": 282,
   "metadata": {},
   "outputs": [
    {
     "name": "stdout",
     "output_type": "stream",
     "text": [
      "<class 'pandas.core.frame.DataFrame'>\n",
      "RangeIndex: 128858 entries, 0 to 128857\n",
      "Data columns (total 2 columns):\n",
      "session_id    128858 non-null int64\n",
      "is_click      128858 non-null int64\n",
      "dtypes: int64(2)\n",
      "memory usage: 2.0 MB\n"
     ]
    }
   ],
   "source": [
    "submission = pd.read_csv('sample_submission_2s8l9nF.csv')\n",
    "submission.info()"
   ]
  },
  {
   "cell_type": "code",
   "execution_count": 283,
   "metadata": {},
   "outputs": [],
   "source": [
    "train.drop(columns=['product_category_2','session_id','DateTime','city_development_index','user_group_id'], axis=1, inplace=True)\n",
    "test.drop(columns=['product_category_2','session_id','DateTime','city_development_index', 'user_group_id'], axis=1, inplace=True)\n",
    "#historical.drop(columns=['DateTime'],axis=1,inplace=True)"
   ]
  },
  {
   "cell_type": "code",
   "execution_count": 284,
   "metadata": {},
   "outputs": [],
   "source": [
    "#train_hist=pd.merge(train,historical, how='left')"
   ]
  },
  {
   "cell_type": "code",
   "execution_count": 285,
   "metadata": {},
   "outputs": [],
   "source": [
    "#Since there are more 0s in is_click as compared to 1s. There are only 31331 1s and 431960 0s. \n",
    "#Need to take the equal amount of values.\n",
    "\n",
    "#train_1 = train_raw[train_raw['is_click']==1]\n",
    "#train_0 = train_raw[train_raw['is_click']==0].head(300000)\n",
    "\n",
    "#train = train_1.append(train_0)"
   ]
  },
  {
   "cell_type": "code",
   "execution_count": 286,
   "metadata": {},
   "outputs": [
    {
     "name": "stdout",
     "output_type": "stream",
     "text": [
      "<class 'pandas.core.frame.DataFrame'>\n",
      "RangeIndex: 463291 entries, 0 to 463290\n",
      "Data columns (total 10 columns):\n",
      "user_id               463291 non-null int64\n",
      "product               463291 non-null object\n",
      "campaign_id           463291 non-null int64\n",
      "webpage_id            463291 non-null int64\n",
      "product_category_1    463291 non-null int64\n",
      "gender                445048 non-null object\n",
      "age_level             445048 non-null float64\n",
      "user_depth            445048 non-null float64\n",
      "var_1                 463291 non-null int64\n",
      "is_click              463291 non-null int64\n",
      "dtypes: float64(2), int64(6), object(2)\n",
      "memory usage: 35.3+ MB\n"
     ]
    }
   ],
   "source": [
    "#train_hist.info()\n",
    "train.info()"
   ]
  },
  {
   "cell_type": "code",
   "execution_count": 287,
   "metadata": {},
   "outputs": [
    {
     "data": {
      "text/html": [
       "<div>\n",
       "<style scoped>\n",
       "    .dataframe tbody tr th:only-of-type {\n",
       "        vertical-align: middle;\n",
       "    }\n",
       "\n",
       "    .dataframe tbody tr th {\n",
       "        vertical-align: top;\n",
       "    }\n",
       "\n",
       "    .dataframe thead th {\n",
       "        text-align: right;\n",
       "    }\n",
       "</style>\n",
       "<table border=\"1\" class=\"dataframe\">\n",
       "  <thead>\n",
       "    <tr style=\"text-align: right;\">\n",
       "      <th></th>\n",
       "      <th>user_id</th>\n",
       "      <th>product</th>\n",
       "      <th>campaign_id</th>\n",
       "      <th>webpage_id</th>\n",
       "      <th>product_category_1</th>\n",
       "      <th>gender</th>\n",
       "      <th>age_level</th>\n",
       "      <th>user_depth</th>\n",
       "      <th>var_1</th>\n",
       "      <th>is_click</th>\n",
       "    </tr>\n",
       "  </thead>\n",
       "  <tbody>\n",
       "    <tr>\n",
       "      <th>0</th>\n",
       "      <td>858557</td>\n",
       "      <td>C</td>\n",
       "      <td>359520</td>\n",
       "      <td>13787</td>\n",
       "      <td>4</td>\n",
       "      <td>Female</td>\n",
       "      <td>4.0</td>\n",
       "      <td>3.0</td>\n",
       "      <td>0</td>\n",
       "      <td>0</td>\n",
       "    </tr>\n",
       "    <tr>\n",
       "      <th>1</th>\n",
       "      <td>243253</td>\n",
       "      <td>C</td>\n",
       "      <td>105960</td>\n",
       "      <td>11085</td>\n",
       "      <td>5</td>\n",
       "      <td>Female</td>\n",
       "      <td>2.0</td>\n",
       "      <td>2.0</td>\n",
       "      <td>0</td>\n",
       "      <td>0</td>\n",
       "    </tr>\n",
       "    <tr>\n",
       "      <th>2</th>\n",
       "      <td>243253</td>\n",
       "      <td>C</td>\n",
       "      <td>359520</td>\n",
       "      <td>13787</td>\n",
       "      <td>4</td>\n",
       "      <td>Female</td>\n",
       "      <td>2.0</td>\n",
       "      <td>2.0</td>\n",
       "      <td>0</td>\n",
       "      <td>0</td>\n",
       "    </tr>\n",
       "    <tr>\n",
       "      <th>3</th>\n",
       "      <td>1097446</td>\n",
       "      <td>I</td>\n",
       "      <td>359520</td>\n",
       "      <td>13787</td>\n",
       "      <td>3</td>\n",
       "      <td>Male</td>\n",
       "      <td>3.0</td>\n",
       "      <td>3.0</td>\n",
       "      <td>1</td>\n",
       "      <td>0</td>\n",
       "    </tr>\n",
       "    <tr>\n",
       "      <th>4</th>\n",
       "      <td>663656</td>\n",
       "      <td>C</td>\n",
       "      <td>405490</td>\n",
       "      <td>60305</td>\n",
       "      <td>3</td>\n",
       "      <td>Male</td>\n",
       "      <td>2.0</td>\n",
       "      <td>3.0</td>\n",
       "      <td>1</td>\n",
       "      <td>0</td>\n",
       "    </tr>\n",
       "  </tbody>\n",
       "</table>\n",
       "</div>"
      ],
      "text/plain": [
       "   user_id product  campaign_id  webpage_id  product_category_1  gender  \\\n",
       "0   858557       C       359520       13787                   4  Female   \n",
       "1   243253       C       105960       11085                   5  Female   \n",
       "2   243253       C       359520       13787                   4  Female   \n",
       "3  1097446       I       359520       13787                   3    Male   \n",
       "4   663656       C       405490       60305                   3    Male   \n",
       "\n",
       "   age_level  user_depth  var_1  is_click  \n",
       "0        4.0         3.0      0         0  \n",
       "1        2.0         2.0      0         0  \n",
       "2        2.0         2.0      0         0  \n",
       "3        3.0         3.0      1         0  \n",
       "4        2.0         3.0      1         0  "
      ]
     },
     "execution_count": 287,
     "metadata": {},
     "output_type": "execute_result"
    }
   ],
   "source": [
    "#train_hist.head()\n",
    "train.head()"
   ]
  },
  {
   "cell_type": "code",
   "execution_count": 288,
   "metadata": {},
   "outputs": [],
   "source": [
    "#test_hist=pd.merge(test,historical, how='left', on = ['product', 'user_id'] )"
   ]
  },
  {
   "cell_type": "code",
   "execution_count": 289,
   "metadata": {},
   "outputs": [],
   "source": [
    "#historical = historical.drop_duplicates()\n",
    "#train_hist = train_hist.drop_duplicates()\n",
    "#test_hist = test_hist.drop_duplicates()"
   ]
  },
  {
   "cell_type": "code",
   "execution_count": 290,
   "metadata": {},
   "outputs": [
    {
     "name": "stdout",
     "output_type": "stream",
     "text": [
      "<class 'pandas.core.frame.DataFrame'>\n",
      "RangeIndex: 128858 entries, 0 to 128857\n",
      "Data columns (total 9 columns):\n",
      "user_id               128858 non-null int64\n",
      "product               128858 non-null object\n",
      "campaign_id           128858 non-null int64\n",
      "webpage_id            128858 non-null int64\n",
      "product_category_1    128858 non-null int64\n",
      "gender                123174 non-null object\n",
      "age_level             123174 non-null float64\n",
      "user_depth            123174 non-null float64\n",
      "var_1                 128858 non-null int64\n",
      "dtypes: float64(2), int64(5), object(2)\n",
      "memory usage: 8.8+ MB\n"
     ]
    }
   ],
   "source": [
    "#test_hist.info()\n",
    "test.info()"
   ]
  },
  {
   "cell_type": "code",
   "execution_count": 291,
   "metadata": {},
   "outputs": [
    {
     "data": {
      "text/html": [
       "<div>\n",
       "<style scoped>\n",
       "    .dataframe tbody tr th:only-of-type {\n",
       "        vertical-align: middle;\n",
       "    }\n",
       "\n",
       "    .dataframe tbody tr th {\n",
       "        vertical-align: top;\n",
       "    }\n",
       "\n",
       "    .dataframe thead th {\n",
       "        text-align: right;\n",
       "    }\n",
       "</style>\n",
       "<table border=\"1\" class=\"dataframe\">\n",
       "  <thead>\n",
       "    <tr style=\"text-align: right;\">\n",
       "      <th></th>\n",
       "      <th>user_id</th>\n",
       "      <th>product</th>\n",
       "      <th>campaign_id</th>\n",
       "      <th>webpage_id</th>\n",
       "      <th>product_category_1</th>\n",
       "      <th>gender</th>\n",
       "      <th>age_level</th>\n",
       "      <th>user_depth</th>\n",
       "      <th>var_1</th>\n",
       "    </tr>\n",
       "  </thead>\n",
       "  <tbody>\n",
       "    <tr>\n",
       "      <th>0</th>\n",
       "      <td>732573</td>\n",
       "      <td>J</td>\n",
       "      <td>404347</td>\n",
       "      <td>53587</td>\n",
       "      <td>1</td>\n",
       "      <td>Male</td>\n",
       "      <td>5.0</td>\n",
       "      <td>3.0</td>\n",
       "      <td>0</td>\n",
       "    </tr>\n",
       "    <tr>\n",
       "      <th>1</th>\n",
       "      <td>172910</td>\n",
       "      <td>I</td>\n",
       "      <td>118601</td>\n",
       "      <td>28529</td>\n",
       "      <td>3</td>\n",
       "      <td>NaN</td>\n",
       "      <td>NaN</td>\n",
       "      <td>NaN</td>\n",
       "      <td>1</td>\n",
       "    </tr>\n",
       "    <tr>\n",
       "      <th>2</th>\n",
       "      <td>172910</td>\n",
       "      <td>I</td>\n",
       "      <td>118601</td>\n",
       "      <td>28529</td>\n",
       "      <td>4</td>\n",
       "      <td>NaN</td>\n",
       "      <td>NaN</td>\n",
       "      <td>NaN</td>\n",
       "      <td>1</td>\n",
       "    </tr>\n",
       "    <tr>\n",
       "      <th>3</th>\n",
       "      <td>557318</td>\n",
       "      <td>G</td>\n",
       "      <td>118601</td>\n",
       "      <td>28529</td>\n",
       "      <td>5</td>\n",
       "      <td>Male</td>\n",
       "      <td>1.0</td>\n",
       "      <td>3.0</td>\n",
       "      <td>0</td>\n",
       "    </tr>\n",
       "    <tr>\n",
       "      <th>4</th>\n",
       "      <td>923896</td>\n",
       "      <td>H</td>\n",
       "      <td>118601</td>\n",
       "      <td>28529</td>\n",
       "      <td>5</td>\n",
       "      <td>Female</td>\n",
       "      <td>3.0</td>\n",
       "      <td>1.0</td>\n",
       "      <td>1</td>\n",
       "    </tr>\n",
       "  </tbody>\n",
       "</table>\n",
       "</div>"
      ],
      "text/plain": [
       "   user_id product  campaign_id  webpage_id  product_category_1  gender  \\\n",
       "0   732573       J       404347       53587                   1    Male   \n",
       "1   172910       I       118601       28529                   3     NaN   \n",
       "2   172910       I       118601       28529                   4     NaN   \n",
       "3   557318       G       118601       28529                   5    Male   \n",
       "4   923896       H       118601       28529                   5  Female   \n",
       "\n",
       "   age_level  user_depth  var_1  \n",
       "0        5.0         3.0      0  \n",
       "1        NaN         NaN      1  \n",
       "2        NaN         NaN      1  \n",
       "3        1.0         3.0      0  \n",
       "4        3.0         1.0      1  "
      ]
     },
     "execution_count": 291,
     "metadata": {},
     "output_type": "execute_result"
    }
   ],
   "source": [
    "#test_hist.head()\n",
    "test.head()"
   ]
  },
  {
   "cell_type": "code",
   "execution_count": 292,
   "metadata": {},
   "outputs": [
    {
     "name": "stdout",
     "output_type": "stream",
     "text": [
      "<class 'pandas.core.frame.DataFrame'>\n",
      "RangeIndex: 24287534 entries, 0 to 24287533\n",
      "Data columns (total 4 columns):\n",
      "DateTime    object\n",
      "user_id     int64\n",
      "product     object\n",
      "action      object\n",
      "dtypes: int64(1), object(3)\n",
      "memory usage: 741.2+ MB\n"
     ]
    }
   ],
   "source": [
    "historical.info()"
   ]
  },
  {
   "cell_type": "code",
   "execution_count": 293,
   "metadata": {},
   "outputs": [
    {
     "data": {
      "text/html": [
       "<div>\n",
       "<style scoped>\n",
       "    .dataframe tbody tr th:only-of-type {\n",
       "        vertical-align: middle;\n",
       "    }\n",
       "\n",
       "    .dataframe tbody tr th {\n",
       "        vertical-align: top;\n",
       "    }\n",
       "\n",
       "    .dataframe thead th {\n",
       "        text-align: right;\n",
       "    }\n",
       "</style>\n",
       "<table border=\"1\" class=\"dataframe\">\n",
       "  <thead>\n",
       "    <tr style=\"text-align: right;\">\n",
       "      <th></th>\n",
       "      <th>DateTime</th>\n",
       "      <th>user_id</th>\n",
       "      <th>product</th>\n",
       "      <th>action</th>\n",
       "    </tr>\n",
       "  </thead>\n",
       "  <tbody>\n",
       "    <tr>\n",
       "      <th>0</th>\n",
       "      <td>2017-05-28 15:44</td>\n",
       "      <td>704</td>\n",
       "      <td>B</td>\n",
       "      <td>view</td>\n",
       "    </tr>\n",
       "    <tr>\n",
       "      <th>1</th>\n",
       "      <td>2017-05-29 07:08</td>\n",
       "      <td>499679</td>\n",
       "      <td>F</td>\n",
       "      <td>view</td>\n",
       "    </tr>\n",
       "    <tr>\n",
       "      <th>2</th>\n",
       "      <td>2017-05-29 07:10</td>\n",
       "      <td>499679</td>\n",
       "      <td>G</td>\n",
       "      <td>view</td>\n",
       "    </tr>\n",
       "    <tr>\n",
       "      <th>3</th>\n",
       "      <td>2017-05-29 07:10</td>\n",
       "      <td>499679</td>\n",
       "      <td>G</td>\n",
       "      <td>view</td>\n",
       "    </tr>\n",
       "    <tr>\n",
       "      <th>4</th>\n",
       "      <td>2017-05-29 07:10</td>\n",
       "      <td>499679</td>\n",
       "      <td>G</td>\n",
       "      <td>view</td>\n",
       "    </tr>\n",
       "  </tbody>\n",
       "</table>\n",
       "</div>"
      ],
      "text/plain": [
       "           DateTime  user_id product action\n",
       "0  2017-05-28 15:44      704       B   view\n",
       "1  2017-05-29 07:08   499679       F   view\n",
       "2  2017-05-29 07:10   499679       G   view\n",
       "3  2017-05-29 07:10   499679       G   view\n",
       "4  2017-05-29 07:10   499679       G   view"
      ]
     },
     "execution_count": 293,
     "metadata": {},
     "output_type": "execute_result"
    }
   ],
   "source": [
    "historical.head()"
   ]
  },
  {
   "cell_type": "code",
   "execution_count": 294,
   "metadata": {},
   "outputs": [
    {
     "data": {
      "text/plain": [
       "user_id                 int64\n",
       "product                object\n",
       "campaign_id             int64\n",
       "webpage_id              int64\n",
       "product_category_1      int64\n",
       "gender                 object\n",
       "age_level             float64\n",
       "user_depth            float64\n",
       "var_1                   int64\n",
       "is_click                int64\n",
       "dtype: object"
      ]
     },
     "execution_count": 294,
     "metadata": {},
     "output_type": "execute_result"
    }
   ],
   "source": [
    "#train_hist.dtypes\n",
    "train.dtypes"
   ]
  },
  {
   "cell_type": "code",
   "execution_count": 295,
   "metadata": {},
   "outputs": [
    {
     "data": {
      "text/plain": [
       "product\n",
       "A     15391\n",
       "B     22479\n",
       "C    163501\n",
       "D     41064\n",
       "E     21452\n",
       "F      7007\n",
       "G      9414\n",
       "H    109574\n",
       "I     63711\n",
       "J      9698\n",
       "Name: product, dtype: int64"
      ]
     },
     "execution_count": 295,
     "metadata": {},
     "output_type": "execute_result"
    }
   ],
   "source": [
    "train.groupby(['product'])['product'].count()"
   ]
  },
  {
   "cell_type": "code",
   "execution_count": 296,
   "metadata": {},
   "outputs": [],
   "source": [
    "train = train.replace({'gender' : { 'Male' : 0, 'Female' : 1}})\n",
    "test = test.replace({'gender' : { 'Male' : 0, 'Female' : 1}})"
   ]
  },
  {
   "cell_type": "code",
   "execution_count": 297,
   "metadata": {},
   "outputs": [],
   "source": [
    "train = train.replace({'action' : { 'view' : 0, 'interest' : 1}})\n",
    "test = test.replace({'action' : { 'view' : 0, 'interest' : 1}})"
   ]
  },
  {
   "cell_type": "code",
   "execution_count": 298,
   "metadata": {},
   "outputs": [],
   "source": [
    "train=train.replace({'product': {'A': 0, 'B':1, 'C':2, \"D\":3,\"E\":4,\"F\":5,\"G\":6,\"H\":7,\"I\":8,\"J\":9}})\n",
    "test=test.replace({'product': {'A': 0, 'B':1, 'C':2, \"D\":3,\"E\":4,\"F\":5,\"G\":6,\"H\":7,\"I\":8,\"J\":9}})"
   ]
  },
  {
   "cell_type": "code",
   "execution_count": 299,
   "metadata": {},
   "outputs": [],
   "source": [
    "#converting datetime column into unix timestamp\n",
    "#train_hist['DateTime']=pd.to_datetime(train_hist['DateTime'], format='%Y-%m-%d', utc=True)\n",
    "#test_hist['DateTime']=pd.to_datetime(test_hist['DateTime'], format='%Y-%m-%d', utc=True)"
   ]
  },
  {
   "cell_type": "code",
   "execution_count": 300,
   "metadata": {},
   "outputs": [
    {
     "data": {
      "text/plain": [
       "product_category_1\n",
       "1     81141\n",
       "2     69183\n",
       "3    113812\n",
       "4    133290\n",
       "5     65865\n",
       "Name: product_category_1, dtype: int64"
      ]
     },
     "execution_count": 300,
     "metadata": {},
     "output_type": "execute_result"
    }
   ],
   "source": [
    "train.groupby(['product_category_1'])['product_category_1'].count()"
   ]
  },
  {
   "cell_type": "code",
   "execution_count": 301,
   "metadata": {},
   "outputs": [],
   "source": [
    "#train_hist.groupby(['product_category_2'])['product_category_2'].count()"
   ]
  },
  {
   "cell_type": "code",
   "execution_count": 302,
   "metadata": {},
   "outputs": [
    {
     "data": {
      "text/plain": [
       "gender\n",
       "0.0    393454\n",
       "1.0     51594\n",
       "Name: gender, dtype: int64"
      ]
     },
     "execution_count": 302,
     "metadata": {},
     "output_type": "execute_result"
    }
   ],
   "source": [
    "train.groupby(['gender'])['gender'].count()"
   ]
  },
  {
   "cell_type": "code",
   "execution_count": 303,
   "metadata": {},
   "outputs": [
    {
     "data": {
      "text/plain": [
       "age_level\n",
       "0.0       153\n",
       "1.0     43367\n",
       "2.0    143501\n",
       "3.0    160581\n",
       "4.0     63859\n",
       "5.0     30828\n",
       "6.0      2759\n",
       "Name: age_level, dtype: int64"
      ]
     },
     "execution_count": 303,
     "metadata": {},
     "output_type": "execute_result"
    }
   ],
   "source": [
    "train.groupby(['age_level'])['age_level'].count()"
   ]
  },
  {
   "cell_type": "code",
   "execution_count": 304,
   "metadata": {},
   "outputs": [
    {
     "data": {
      "text/plain": [
       "user_depth\n",
       "1.0     11861\n",
       "2.0     30389\n",
       "3.0    402798\n",
       "Name: user_depth, dtype: int64"
      ]
     },
     "execution_count": 304,
     "metadata": {},
     "output_type": "execute_result"
    }
   ],
   "source": [
    "train.groupby(['user_depth'])['user_depth'].count()"
   ]
  },
  {
   "cell_type": "code",
   "execution_count": 305,
   "metadata": {},
   "outputs": [],
   "source": [
    "#train.groupby(['city_development_index'])['city_development_index'].count()"
   ]
  },
  {
   "cell_type": "code",
   "execution_count": 306,
   "metadata": {},
   "outputs": [],
   "source": [
    "#train.groupby(['user_group_id'])['user_group_id'].count()"
   ]
  },
  {
   "cell_type": "code",
   "execution_count": 307,
   "metadata": {},
   "outputs": [
    {
     "data": {
      "text/plain": [
       "var_1\n",
       "0    267704\n",
       "1    195587\n",
       "Name: var_1, dtype: int64"
      ]
     },
     "execution_count": 307,
     "metadata": {},
     "output_type": "execute_result"
    }
   ],
   "source": [
    "train.groupby(['var_1'])['var_1'].count()"
   ]
  },
  {
   "cell_type": "code",
   "execution_count": 308,
   "metadata": {},
   "outputs": [
    {
     "data": {
      "text/plain": [
       "is_click\n",
       "0    431960\n",
       "1     31331\n",
       "Name: is_click, dtype: int64"
      ]
     },
     "execution_count": 308,
     "metadata": {},
     "output_type": "execute_result"
    }
   ],
   "source": [
    "train.groupby(['is_click'])['is_click'].count()"
   ]
  },
  {
   "cell_type": "code",
   "execution_count": 309,
   "metadata": {},
   "outputs": [],
   "source": [
    "#train_hist= pd.merge(train,historical,how='inner',on=['user_id','product'])"
   ]
  },
  {
   "cell_type": "code",
   "execution_count": 310,
   "metadata": {},
   "outputs": [
    {
     "name": "stdout",
     "output_type": "stream",
     "text": [
      "user_id                   0\n",
      "product                   0\n",
      "campaign_id               0\n",
      "webpage_id                0\n",
      "product_category_1        0\n",
      "gender                18243\n",
      "age_level             18243\n",
      "user_depth            18243\n",
      "var_1                     0\n",
      "is_click                  0\n",
      "dtype: int64\n"
     ]
    }
   ],
   "source": [
    "#Imputing missing values\n",
    "\n",
    "def missing_data_count(df):\n",
    "  print(df.isna().sum())\n",
    "\n",
    "missing_data_count(train)"
   ]
  },
  {
   "cell_type": "code",
   "execution_count": 311,
   "metadata": {},
   "outputs": [
    {
     "name": "stdout",
     "output_type": "stream",
     "text": [
      "user_id                  0\n",
      "product                  0\n",
      "campaign_id              0\n",
      "webpage_id               0\n",
      "product_category_1       0\n",
      "gender                5684\n",
      "age_level             5684\n",
      "user_depth            5684\n",
      "var_1                    0\n",
      "dtype: int64\n"
     ]
    }
   ],
   "source": [
    "missing_data_count(test)"
   ]
  },
  {
   "cell_type": "code",
   "execution_count": 312,
   "metadata": {},
   "outputs": [],
   "source": [
    "#test[\"city_development_index\"] = test[\"city_development_index\"].fillna(test['city_development_index'].mode()[0])\n",
    "test[\"user_depth\"] = test[\"user_depth\"].fillna(test['user_depth'].mode()[0])\n",
    "test[\"age_level\"] = test[\"age_level\"].fillna(test['age_level'].mode()[0])\n",
    "test[\"gender\"] = test[\"gender\"].fillna(test['gender'].mode()[0])\n",
    "#test[\"user_group_id\"] = test[\"user_group_id\"].fillna(test['user_group_id'].mode()[0])\n",
    "\n",
    "\n",
    "#train[\"city_development_index\"] = train[\"city_development_index\"].fillna(train['city_development_index'].mode()[0])\n",
    "train[\"user_depth\"] = train[\"user_depth\"].fillna(train['user_depth'].mode()[0])\n",
    "train[\"age_level\"] = train[\"age_level\"].fillna(train['age_level'].mode()[0])\n",
    "train[\"gender\"] = train[\"gender\"].fillna(train['gender'].mode()[0])\n",
    "#train[\"user_group_id\"] = train[\"user_group_id\"].fillna(train['user_group_id'].mode()[0])"
   ]
  },
  {
   "cell_type": "code",
   "execution_count": 313,
   "metadata": {},
   "outputs": [],
   "source": [
    "target = train['is_click']\n",
    "target.value_counts()\n",
    "\n",
    "train=train.drop(['is_click'],axis=1)\n",
    "#test=test.drop(['product_category_2','session_id'],axis=1)"
   ]
  },
  {
   "cell_type": "code",
   "execution_count": 314,
   "metadata": {},
   "outputs": [],
   "source": [
    "from sklearn.metrics import roc_auc_score\n",
    "from sklearn.grid_search import GridSearchCV\n",
    "from sklearn.linear_model import LogisticRegression\n",
    "from sklearn.model_selection import train_test_split\n",
    "import xgboost as xgb\n",
    "import lightgbm as lgb"
   ]
  },
  {
   "cell_type": "code",
   "execution_count": 315,
   "metadata": {},
   "outputs": [],
   "source": [
    "X_train, X_test, y_train, y_test = train_test_split(train, target, test_size=0.33, random_state=42)"
   ]
  },
  {
   "cell_type": "code",
   "execution_count": 316,
   "metadata": {},
   "outputs": [
    {
     "data": {
      "text/plain": [
       "0.5831952038582853"
      ]
     },
     "execution_count": 316,
     "metadata": {},
     "output_type": "execute_result"
    }
   ],
   "source": [
    "clf = lgb.LGBMClassifier(n_estimators=1000, silent=True, subsample=0.8, colsample_bytree=0.8, learning_rate=0.0075, scale_pos_weight=3.333)\n",
    "clf.fit(X_train, y_train)\n",
    "pred = clf.predict_proba(X_test)[:,1]\n",
    "roc_auc_score(y_test, pred)"
   ]
  },
  {
   "cell_type": "code",
   "execution_count": 317,
   "metadata": {},
   "outputs": [],
   "source": [
    "clf = lgb.LGBMClassifier(n_estimators=1000, silent=True, subsample=0.8, colsample_bytree=0.8, learning_rate=0.0075, scale_pos_weight=3.333)\n",
    "clf.fit(train, target)\n",
    "pred = clf.predict_proba(test)[:,1]\n"
   ]
  },
  {
   "cell_type": "code",
   "execution_count": 318,
   "metadata": {},
   "outputs": [
    {
     "name": "stdout",
     "output_type": "stream",
     "text": [
      "(128858,)\n"
     ]
    },
    {
     "data": {
      "text/plain": [
       "(128858,)"
      ]
     },
     "execution_count": 318,
     "metadata": {},
     "output_type": "execute_result"
    }
   ],
   "source": [
    "print(pred.shape)\n",
    "submission[\"is_click\"].shape"
   ]
  },
  {
   "cell_type": "code",
   "execution_count": 319,
   "metadata": {},
   "outputs": [],
   "source": [
    "submission[\"is_click\"]=pred\n",
    "submission.to_csv(\"amexpert_hack_solution_lgbm_with_equal_numbers.csv\", index=False)"
   ]
  },
  {
   "cell_type": "code",
   "execution_count": 320,
   "metadata": {},
   "outputs": [
    {
     "data": {
      "text/html": [
       "<div>\n",
       "<style scoped>\n",
       "    .dataframe tbody tr th:only-of-type {\n",
       "        vertical-align: middle;\n",
       "    }\n",
       "\n",
       "    .dataframe tbody tr th {\n",
       "        vertical-align: top;\n",
       "    }\n",
       "\n",
       "    .dataframe thead th {\n",
       "        text-align: right;\n",
       "    }\n",
       "</style>\n",
       "<table border=\"1\" class=\"dataframe\">\n",
       "  <thead>\n",
       "    <tr style=\"text-align: right;\">\n",
       "      <th></th>\n",
       "      <th>user_id</th>\n",
       "      <th>product</th>\n",
       "      <th>campaign_id</th>\n",
       "      <th>webpage_id</th>\n",
       "      <th>product_category_1</th>\n",
       "      <th>gender</th>\n",
       "      <th>age_level</th>\n",
       "      <th>user_depth</th>\n",
       "      <th>var_1</th>\n",
       "    </tr>\n",
       "  </thead>\n",
       "  <tbody>\n",
       "    <tr>\n",
       "      <th>user_id</th>\n",
       "      <td>1.000000</td>\n",
       "      <td>-0.010238</td>\n",
       "      <td>-0.009227</td>\n",
       "      <td>-0.022056</td>\n",
       "      <td>0.031165</td>\n",
       "      <td>0.029703</td>\n",
       "      <td>0.046416</td>\n",
       "      <td>-0.011420</td>\n",
       "      <td>0.057129</td>\n",
       "    </tr>\n",
       "    <tr>\n",
       "      <th>product</th>\n",
       "      <td>-0.010238</td>\n",
       "      <td>1.000000</td>\n",
       "      <td>-0.107040</td>\n",
       "      <td>-0.009801</td>\n",
       "      <td>-0.171914</td>\n",
       "      <td>0.008270</td>\n",
       "      <td>-0.022398</td>\n",
       "      <td>-0.004272</td>\n",
       "      <td>-0.041047</td>\n",
       "    </tr>\n",
       "    <tr>\n",
       "      <th>campaign_id</th>\n",
       "      <td>-0.009227</td>\n",
       "      <td>-0.107040</td>\n",
       "      <td>1.000000</td>\n",
       "      <td>0.606313</td>\n",
       "      <td>-0.113342</td>\n",
       "      <td>-0.001507</td>\n",
       "      <td>-0.061564</td>\n",
       "      <td>-0.022214</td>\n",
       "      <td>-0.006588</td>\n",
       "    </tr>\n",
       "    <tr>\n",
       "      <th>webpage_id</th>\n",
       "      <td>-0.022056</td>\n",
       "      <td>-0.009801</td>\n",
       "      <td>0.606313</td>\n",
       "      <td>1.000000</td>\n",
       "      <td>-0.280598</td>\n",
       "      <td>-0.043445</td>\n",
       "      <td>-0.116014</td>\n",
       "      <td>0.011444</td>\n",
       "      <td>-0.021678</td>\n",
       "    </tr>\n",
       "    <tr>\n",
       "      <th>product_category_1</th>\n",
       "      <td>0.031165</td>\n",
       "      <td>-0.171914</td>\n",
       "      <td>-0.113342</td>\n",
       "      <td>-0.280598</td>\n",
       "      <td>1.000000</td>\n",
       "      <td>0.034412</td>\n",
       "      <td>0.147104</td>\n",
       "      <td>0.000022</td>\n",
       "      <td>0.054029</td>\n",
       "    </tr>\n",
       "    <tr>\n",
       "      <th>gender</th>\n",
       "      <td>0.029703</td>\n",
       "      <td>0.008270</td>\n",
       "      <td>-0.001507</td>\n",
       "      <td>-0.043445</td>\n",
       "      <td>0.034412</td>\n",
       "      <td>1.000000</td>\n",
       "      <td>0.236647</td>\n",
       "      <td>-0.032465</td>\n",
       "      <td>-0.023761</td>\n",
       "    </tr>\n",
       "    <tr>\n",
       "      <th>age_level</th>\n",
       "      <td>0.046416</td>\n",
       "      <td>-0.022398</td>\n",
       "      <td>-0.061564</td>\n",
       "      <td>-0.116014</td>\n",
       "      <td>0.147104</td>\n",
       "      <td>0.236647</td>\n",
       "      <td>1.000000</td>\n",
       "      <td>0.024756</td>\n",
       "      <td>0.117223</td>\n",
       "    </tr>\n",
       "    <tr>\n",
       "      <th>user_depth</th>\n",
       "      <td>-0.011420</td>\n",
       "      <td>-0.004272</td>\n",
       "      <td>-0.022214</td>\n",
       "      <td>0.011444</td>\n",
       "      <td>0.000022</td>\n",
       "      <td>-0.032465</td>\n",
       "      <td>0.024756</td>\n",
       "      <td>1.000000</td>\n",
       "      <td>0.099676</td>\n",
       "    </tr>\n",
       "    <tr>\n",
       "      <th>var_1</th>\n",
       "      <td>0.057129</td>\n",
       "      <td>-0.041047</td>\n",
       "      <td>-0.006588</td>\n",
       "      <td>-0.021678</td>\n",
       "      <td>0.054029</td>\n",
       "      <td>-0.023761</td>\n",
       "      <td>0.117223</td>\n",
       "      <td>0.099676</td>\n",
       "      <td>1.000000</td>\n",
       "    </tr>\n",
       "  </tbody>\n",
       "</table>\n",
       "</div>"
      ],
      "text/plain": [
       "                     user_id   product  campaign_id  webpage_id  \\\n",
       "user_id             1.000000 -0.010238    -0.009227   -0.022056   \n",
       "product            -0.010238  1.000000    -0.107040   -0.009801   \n",
       "campaign_id        -0.009227 -0.107040     1.000000    0.606313   \n",
       "webpage_id         -0.022056 -0.009801     0.606313    1.000000   \n",
       "product_category_1  0.031165 -0.171914    -0.113342   -0.280598   \n",
       "gender              0.029703  0.008270    -0.001507   -0.043445   \n",
       "age_level           0.046416 -0.022398    -0.061564   -0.116014   \n",
       "user_depth         -0.011420 -0.004272    -0.022214    0.011444   \n",
       "var_1               0.057129 -0.041047    -0.006588   -0.021678   \n",
       "\n",
       "                    product_category_1    gender  age_level  user_depth  \\\n",
       "user_id                       0.031165  0.029703   0.046416   -0.011420   \n",
       "product                      -0.171914  0.008270  -0.022398   -0.004272   \n",
       "campaign_id                  -0.113342 -0.001507  -0.061564   -0.022214   \n",
       "webpage_id                   -0.280598 -0.043445  -0.116014    0.011444   \n",
       "product_category_1            1.000000  0.034412   0.147104    0.000022   \n",
       "gender                        0.034412  1.000000   0.236647   -0.032465   \n",
       "age_level                     0.147104  0.236647   1.000000    0.024756   \n",
       "user_depth                    0.000022 -0.032465   0.024756    1.000000   \n",
       "var_1                         0.054029 -0.023761   0.117223    0.099676   \n",
       "\n",
       "                       var_1  \n",
       "user_id             0.057129  \n",
       "product            -0.041047  \n",
       "campaign_id        -0.006588  \n",
       "webpage_id         -0.021678  \n",
       "product_category_1  0.054029  \n",
       "gender             -0.023761  \n",
       "age_level           0.117223  \n",
       "user_depth          0.099676  \n",
       "var_1               1.000000  "
      ]
     },
     "execution_count": 320,
     "metadata": {},
     "output_type": "execute_result"
    }
   ],
   "source": [
    "train.corr()"
   ]
  },
  {
   "cell_type": "code",
   "execution_count": null,
   "metadata": {},
   "outputs": [],
   "source": []
  },
  {
   "cell_type": "code",
   "execution_count": null,
   "metadata": {},
   "outputs": [],
   "source": []
  }
 ],
 "metadata": {
  "kernelspec": {
   "display_name": "Python 3",
   "language": "python",
   "name": "python3"
  },
  "language_info": {
   "codemirror_mode": {
    "name": "ipython",
    "version": 3
   },
   "file_extension": ".py",
   "mimetype": "text/x-python",
   "name": "python",
   "nbconvert_exporter": "python",
   "pygments_lexer": "ipython3",
   "version": "3.6.4"
  }
 },
 "nbformat": 4,
 "nbformat_minor": 2
}
